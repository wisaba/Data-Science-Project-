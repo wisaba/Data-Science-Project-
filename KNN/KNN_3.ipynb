{
 "cells": [
  {
   "cell_type": "code",
   "execution_count": 1,
   "metadata": {},
   "outputs": [],
   "source": [
    "import pandas as pd\n",
    "from sklearn.preprocessing import LabelEncoder\n",
    "from sklearn.model_selection import train_test_split\n",
    "from sklearn.neighbors import KNeighborsClassifier\n",
    "from sklearn.metrics import accuracy_score"
   ]
  },
  {
   "cell_type": "code",
   "execution_count": 3,
   "metadata": {},
   "outputs": [
    {
     "name": "stdout",
     "output_type": "stream",
     "text": [
      "0.7577639751552795\n"
     ]
    }
   ],
   "source": [
    "titanic_data = pd.read_csv(\"titanic.csv\")\n",
    "\n",
    "\n",
    "titanic_data['Age'].fillna(titanic_data['Age'].mean(),inplace=True)\n",
    "titanic_data['Embarked'].fillna(titanic_data['Embarked'].mode()[0],inplace=True)\n",
    "le = LabelEncoder()\n",
    "titanic_data[\"Sex\"] = le.fit_transform(titanic_data[\"Sex\"])\n",
    "titanic_data[\"Embarked\"] = le.fit_transform(titanic_data[\"Embarked\"])\n",
    "\n",
    "features = [\"Pclass\",\"Sex\",\"Age\",\"SibSp\",\"Parch\",\"Fare\",\"Embarked\"]\n",
    "X = titanic_data[features]\n",
    "y = titanic_data[\"Survived\"]\n",
    "X_train,X_test,y_train,y_test = train_test_split(X,y,test_size = 0.18,random_state = 42)\n",
    "\n",
    "k = 3\n",
    "my_k_near = KNeighborsClassifier(n_neighbors=k)\n",
    "my_k_near.fit(X_train,y_train)\n",
    "\n",
    "y_pred = my_k_near.predict(X_test)\n",
    "accuracy = accuracy_score(y_test,y_pred)\n",
    "print(accuracy)"
   ]
  },
  {
   "cell_type": "markdown",
   "metadata": {},
   "source": [
    "### optimizing value of K"
   ]
  },
  {
   "cell_type": "code",
   "execution_count": 8,
   "metadata": {},
   "outputs": [
    {
     "name": "stdout",
     "output_type": "stream",
     "text": [
      "[(1, 0.7018633540372671), (2, 0.7080745341614907), (3, 0.7577639751552795), (4, 0.7329192546583851), (5, 0.7329192546583851), (6, 0.7391304347826086), (7, 0.7391304347826086), (8, 0.7329192546583851), (9, 0.7639751552795031), (10, 0.7267080745341615), (11, 0.7453416149068323), (12, 0.7453416149068323), (13, 0.7639751552795031), (14, 0.7577639751552795), (15, 0.7577639751552795), (16, 0.7329192546583851), (17, 0.7329192546583851), (18, 0.7329192546583851), (19, 0.7329192546583851)]\n"
     ]
    }
   ],
   "source": [
    "titanic_data = pd.read_csv(\"titanic.csv\")\n",
    "\n",
    "\n",
    "titanic_data['Age'].fillna(titanic_data['Age'].mean(),inplace=True)\n",
    "titanic_data['Embarked'].fillna(titanic_data['Embarked'].mode()[0],inplace=True)\n",
    "le = LabelEncoder()\n",
    "titanic_data[\"Sex\"] = le.fit_transform(titanic_data[\"Sex\"])\n",
    "titanic_data[\"Embarked\"] = le.fit_transform(titanic_data[\"Embarked\"])\n",
    "\n",
    "features = [\"Pclass\",\"Sex\",\"Age\",\"SibSp\",\"Parch\",\"Fare\",\"Embarked\"]\n",
    "X = titanic_data[features]\n",
    "y = titanic_data[\"Survived\"]\n",
    "X_train,X_test,y_train,y_test = train_test_split(X,y,test_size = 0.18,random_state = 42)\n",
    "score = []\n",
    "for k in range(1,20):\n",
    "    my_k_near = KNeighborsClassifier(n_neighbors=k)\n",
    "    my_k_near.fit(X_train,y_train)\n",
    "\n",
    "    y_pred = my_k_near.predict(X_test)\n",
    "    accuracy = accuracy_score(y_test,y_pred)\n",
    "    score.append((k,accuracy))\n",
    "print(score)"
   ]
  },
  {
   "cell_type": "code",
   "execution_count": 7,
   "metadata": {},
   "outputs": [
    {
     "data": {
      "text/plain": [
       "0.7639751552795031"
      ]
     },
     "execution_count": 7,
     "metadata": {},
     "output_type": "execute_result"
    }
   ],
   "source": [
    "max(score)"
   ]
  },
  {
   "cell_type": "code",
   "execution_count": null,
   "metadata": {},
   "outputs": [],
   "source": []
  }
 ],
 "metadata": {
  "kernelspec": {
   "display_name": "Python 3",
   "language": "python",
   "name": "python3"
  },
  "language_info": {
   "codemirror_mode": {
    "name": "ipython",
    "version": 3
   },
   "file_extension": ".py",
   "mimetype": "text/x-python",
   "name": "python",
   "nbconvert_exporter": "python",
   "pygments_lexer": "ipython3",
   "version": "3.9.10"
  },
  "orig_nbformat": 4
 },
 "nbformat": 4,
 "nbformat_minor": 2
}
